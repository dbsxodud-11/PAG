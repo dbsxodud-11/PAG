{
 "cells": [
  {
   "cell_type": "code",
   "execution_count": 1,
   "metadata": {},
   "outputs": [],
   "source": [
    "import json"
   ]
  },
  {
   "cell_type": "code",
   "execution_count": null,
   "metadata": {},
   "outputs": [
    {
     "name": "stdout",
     "output_type": "stream",
     "text": [
      "Remove 81 instructions\n"
     ]
    }
   ],
   "source": [
    "instructions = []\n",
    "count = 1\n",
    "with open(\"filtered_mix_train_for_ft.txt\", \"r\") as f:\n",
    "    for line in f:\n",
    "        if len(line.strip().split()) >= 45:\n",
    "            count += 1\n",
    "            continue\n",
    "        instructions.append(line.strip())\n",
    "\n",
    "print(f\"Remove {count} instructions\")\n",
    "json_dict = [{\"initial_prompt\": x} for x in instructions]\n",
    "with open(\"initial_prompt.jsonl\", \"w\") as f:\n",
    "    for item in json_dict:\n",
    "        f.write(json.dumps(item) + \"\\n\")"
   ]
  },
  {
   "cell_type": "code",
   "execution_count": null,
   "metadata": {},
   "outputs": [],
   "source": []
  }
 ],
 "metadata": {
  "kernelspec": {
   "display_name": "pag",
   "language": "python",
   "name": "python3"
  },
  "language_info": {
   "codemirror_mode": {
    "name": "ipython",
    "version": 3
   },
   "file_extension": ".py",
   "mimetype": "text/x-python",
   "name": "python",
   "nbconvert_exporter": "python",
   "pygments_lexer": "ipython3",
   "version": "3.8.20"
  }
 },
 "nbformat": 4,
 "nbformat_minor": 2
}
